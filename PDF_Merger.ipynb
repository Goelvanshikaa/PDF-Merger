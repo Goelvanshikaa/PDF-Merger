{
  "nbformat": 4,
  "nbformat_minor": 0,
  "metadata": {
    "colab": {
      "provenance": [],
      "authorship_tag": "ABX9TyPqJUN9nHByBICUE64/fo5P",
      "include_colab_link": true
    },
    "kernelspec": {
      "name": "python3",
      "display_name": "Python 3"
    },
    "language_info": {
      "name": "python"
    }
  },
  "cells": [
    {
      "cell_type": "markdown",
      "metadata": {
        "id": "view-in-github",
        "colab_type": "text"
      },
      "source": [
        "<a href=\"https://colab.research.google.com/github/Goelvanshikaa/PDF-Merger/blob/main/PDF_Merger.ipynb\" target=\"_parent\"><img src=\"https://colab.research.google.com/assets/colab-badge.svg\" alt=\"Open In Colab\"/></a>"
      ]
    },
    {
      "cell_type": "code",
      "execution_count": 2,
      "metadata": {
        "colab": {
          "base_uri": "https://localhost:8080/"
        },
        "id": "hJMRFepUmC6b",
        "outputId": "96fcae17-d95f-4dc4-bc57-48bfecab4bb9",
        "collapsed": true
      },
      "outputs": [
        {
          "output_type": "stream",
          "name": "stdout",
          "text": [
            "Collecting PyPDF2\n",
            "  Downloading pypdf2-3.0.1-py3-none-any.whl (232 kB)\n",
            "\u001b[2K     \u001b[90m━━━━━━━━━━━━━━━━━━━━━━━━━━━━━━━━━━━━━━━━\u001b[0m \u001b[32m232.6/232.6 kB\u001b[0m \u001b[31m1.7 MB/s\u001b[0m eta \u001b[36m0:00:00\u001b[0m\n",
            "\u001b[?25hInstalling collected packages: PyPDF2\n",
            "Successfully installed PyPDF2-3.0.1\n"
          ]
        }
      ],
      "source": [
        "!pip install PyPDF2"
      ]
    },
    {
      "cell_type": "code",
      "source": [
        "import os\n",
        "from PyPDF2 import PdfReader, PdfWriter\n",
        "def merge_pdf(input_pdf1,input_pdf2, output_dir):\n",
        "    if not os.path.exists(output_dir):\n",
        "        os.makedirs(output_dir)\n",
        "\n",
        "    pdf1 = PdfReader(open(input_pdf1, \"rb\"))\n",
        "    pdf2 = PdfReader(open(input_pdf2, \"rb\"))\n",
        "    total_pages = len(pdf1.pages) +len(pdf2.pages)\n",
        "\n",
        "\n",
        "    part_writer = PdfWriter()\n",
        "\n",
        "\n",
        "    for page_num in range(len(pdf1.pages)):\n",
        "        if page_num < len(pdf1.pages):\n",
        "            part_writer.add_page(pdf1.pages[page_num])\n",
        "\n",
        "    for page_num in range(len(pdf2.pages)):\n",
        "        if page_num < len(pdf2.pages):\n",
        "            part_writer.add_page(pdf2.pages[page_num])\n",
        "\n",
        "    # Save the two parts\n",
        "    part_filename = os.path.join(output_dir, 'part.pdf')\n",
        "\n",
        "\n",
        "    with open(part_filename, 'wb') as part_pdf:\n",
        "        part_writer.write(part_pdf)\n",
        "\n",
        "\n",
        "\n",
        "    print(f'Created: {part_filename}')\n",
        "\n",
        "\n",
        "if __name__ == \"__main__\":\n",
        "    input_pdf1 = '/content/part1.pdf'  # Replace with the path to your input PDF file\n",
        "    input_pdf2 = '/content/part2.pdf'\n",
        "    output_dir = '/content/output'  # Replace with the directory where you want to save the output PDFs\n",
        "    merge_pdf(input_pdf1,input_pdf2, output_dir)"
      ],
      "metadata": {
        "colab": {
          "base_uri": "https://localhost:8080/"
        },
        "id": "gVAy8pWOmJNh",
        "outputId": "af806566-0ace-43d5-c2c8-70ebe8e9ae52"
      },
      "execution_count": 3,
      "outputs": [
        {
          "output_type": "stream",
          "name": "stdout",
          "text": [
            "Created: /content/ouput/part.pdf\n"
          ]
        }
      ]
    }
  ]
}